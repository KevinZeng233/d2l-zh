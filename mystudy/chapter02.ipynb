{
 "cells": [
  {
   "metadata": {
    "ExecuteTime": {
     "end_time": "2024-12-30T08:47:34.468784Z",
     "start_time": "2024-12-30T08:47:34.455477Z"
    }
   },
   "cell_type": "code",
   "source": "print(\"测试连接\")",
   "id": "9a29d93bbd864252",
   "outputs": [
    {
     "name": "stdout",
     "output_type": "stream",
     "text": [
      "测试连接\n"
     ]
    }
   ],
   "execution_count": 1
  },
  {
   "metadata": {
    "ExecuteTime": {
     "end_time": "2024-12-30T02:49:12.881830Z",
     "start_time": "2024-12-30T02:49:12.874680Z"
    }
   },
   "cell_type": "code",
   "source": [
    "import os\n",
    "from pathlib import Path\n",
    "import pandas as pd\n",
    "# 当前脚本文件路径\n",
    "current_file_path = Path.cwd()\n",
    "# 上一级文件夹路径\n",
    "parent_folder_path = current_file_path.parent\n",
    "#学校集群\n",
    "Data_PATH = parent_folder_path / \"mydata\"\n",
    "print(Data_PATH)\n",
    "def load_data(csv_name):\n",
    "    csv_path = os.path.join(Data_PATH, csv_name)\n",
    "    return pd.read_csv(csv_path)"
   ],
   "id": "82bd9729f67e8bbb",
   "outputs": [
    {
     "name": "stdout",
     "output_type": "stream",
     "text": [
      "/public/home/zss/mydata\n"
     ]
    }
   ],
   "execution_count": 37
  },
  {
   "metadata": {
    "ExecuteTime": {
     "end_time": "2024-12-30T08:47:39.523744Z",
     "start_time": "2024-12-30T08:47:37.809336Z"
    }
   },
   "cell_type": "code",
   "source": [
    "import torch\n",
    "\n",
    "x = torch.arange(12)\n",
    "x"
   ],
   "id": "e2249b63cee1c49e",
   "outputs": [
    {
     "data": {
      "text/plain": [
       "tensor([ 0,  1,  2,  3,  4,  5,  6,  7,  8,  9, 10, 11])"
      ]
     },
     "execution_count": 2,
     "metadata": {},
     "output_type": "execute_result"
    }
   ],
   "execution_count": 2
  },
  {
   "metadata": {
    "ExecuteTime": {
     "end_time": "2024-12-30T02:00:35.627452Z",
     "start_time": "2024-12-30T02:00:35.618115Z"
    }
   },
   "cell_type": "code",
   "source": "x.shape",
   "id": "94fad46fb9e91e70",
   "outputs": [
    {
     "data": {
      "text/plain": [
       "torch.Size([12])"
      ]
     },
     "execution_count": 4,
     "metadata": {},
     "output_type": "execute_result"
    }
   ],
   "execution_count": 4
  },
  {
   "metadata": {
    "ExecuteTime": {
     "end_time": "2024-12-30T02:01:06.242002Z",
     "start_time": "2024-12-30T02:01:06.232465Z"
    }
   },
   "cell_type": "code",
   "source": "x.numel()",
   "id": "68f7b4cc8b373d7b",
   "outputs": [
    {
     "data": {
      "text/plain": [
       "12"
      ]
     },
     "execution_count": 6,
     "metadata": {},
     "output_type": "execute_result"
    }
   ],
   "execution_count": 6
  },
  {
   "metadata": {
    "ExecuteTime": {
     "end_time": "2024-12-30T02:01:31.801524Z",
     "start_time": "2024-12-30T02:01:31.790424Z"
    }
   },
   "cell_type": "code",
   "source": [
    "X = x.reshape(3,4)\n",
    "X"
   ],
   "id": "1a094e10b8bfb593",
   "outputs": [
    {
     "data": {
      "text/plain": [
       "tensor([[ 0,  1,  2,  3],\n",
       "        [ 4,  5,  6,  7],\n",
       "        [ 8,  9, 10, 11]])"
      ]
     },
     "execution_count": 7,
     "metadata": {},
     "output_type": "execute_result"
    }
   ],
   "execution_count": 7
  },
  {
   "metadata": {
    "ExecuteTime": {
     "end_time": "2024-12-30T02:02:12.410377Z",
     "start_time": "2024-12-30T02:02:12.400159Z"
    }
   },
   "cell_type": "code",
   "source": "torch.zeros(3,4)",
   "id": "46ce41a7ef26d648",
   "outputs": [
    {
     "data": {
      "text/plain": [
       "tensor([[0., 0., 0., 0.],\n",
       "        [0., 0., 0., 0.],\n",
       "        [0., 0., 0., 0.]])"
      ]
     },
     "execution_count": 8,
     "metadata": {},
     "output_type": "execute_result"
    }
   ],
   "execution_count": 8
  },
  {
   "metadata": {
    "ExecuteTime": {
     "end_time": "2024-12-30T02:03:02.075547Z",
     "start_time": "2024-12-30T02:03:02.063387Z"
    }
   },
   "cell_type": "code",
   "source": "torch.ones(3,4)",
   "id": "fe9017c674251c0d",
   "outputs": [
    {
     "data": {
      "text/plain": [
       "tensor([[1., 1., 1., 1.],\n",
       "        [1., 1., 1., 1.],\n",
       "        [1., 1., 1., 1.]])"
      ]
     },
     "execution_count": 10,
     "metadata": {},
     "output_type": "execute_result"
    }
   ],
   "execution_count": 10
  },
  {
   "metadata": {
    "ExecuteTime": {
     "end_time": "2024-12-30T02:03:25.991073Z",
     "start_time": "2024-12-30T02:03:25.973725Z"
    }
   },
   "cell_type": "code",
   "source": "torch.randn(3,4)",
   "id": "556df4f14f9731cf",
   "outputs": [
    {
     "data": {
      "text/plain": [
       "tensor([[-1.7379,  0.2441,  1.1630,  0.5080],\n",
       "        [-0.4606,  0.2530, -0.3747,  0.1042],\n",
       "        [-0.5609, -0.7681,  1.8140, -1.8464]])"
      ]
     },
     "execution_count": 11,
     "metadata": {},
     "output_type": "execute_result"
    }
   ],
   "execution_count": 11
  },
  {
   "metadata": {
    "ExecuteTime": {
     "end_time": "2024-12-30T02:03:53.179025Z",
     "start_time": "2024-12-30T02:03:53.166978Z"
    }
   },
   "cell_type": "code",
   "source": [
    "torch.tensor([\n",
    "    [2, 1, 4, 3],\n",
    "    [1, 2, 3, 4],\n",
    "    [4, 3, 2, 1]\n",
    "])"
   ],
   "id": "c47004fa93963f16",
   "outputs": [
    {
     "data": {
      "text/plain": [
       "tensor([[2, 1, 4, 3],\n",
       "        [1, 2, 3, 4],\n",
       "        [4, 3, 2, 1]])"
      ]
     },
     "execution_count": 12,
     "metadata": {},
     "output_type": "execute_result"
    }
   ],
   "execution_count": 12
  },
  {
   "metadata": {
    "ExecuteTime": {
     "end_time": "2024-12-30T02:04:29.382066Z",
     "start_time": "2024-12-30T02:04:29.375019Z"
    }
   },
   "cell_type": "code",
   "source": [
    "x = torch.tensor([1.0, 2, 4, 8])\n",
    "y = torch.tensor([2, 2, 2, 2])"
   ],
   "id": "c60fcedfd85954ab",
   "outputs": [],
   "execution_count": 13
  },
  {
   "metadata": {
    "ExecuteTime": {
     "end_time": "2024-12-30T02:04:41.295511Z",
     "start_time": "2024-12-30T02:04:41.284799Z"
    }
   },
   "cell_type": "code",
   "source": "x + y",
   "id": "93faa731ae7f5720",
   "outputs": [
    {
     "data": {
      "text/plain": [
       "tensor([ 3.,  4.,  6., 10.])"
      ]
     },
     "execution_count": 14,
     "metadata": {},
     "output_type": "execute_result"
    }
   ],
   "execution_count": 14
  },
  {
   "metadata": {
    "ExecuteTime": {
     "end_time": "2024-12-30T02:04:55.374566Z",
     "start_time": "2024-12-30T02:04:55.364245Z"
    }
   },
   "cell_type": "code",
   "source": "x - y",
   "id": "39c4c80d7f31e063",
   "outputs": [
    {
     "data": {
      "text/plain": [
       "tensor([-1.,  0.,  2.,  6.])"
      ]
     },
     "execution_count": 15,
     "metadata": {},
     "output_type": "execute_result"
    }
   ],
   "execution_count": 15
  },
  {
   "metadata": {},
   "cell_type": "markdown",
   "source": "## ** 运算符是求幂运算",
   "id": "2ff0bcec0d70943e"
  },
  {
   "metadata": {
    "ExecuteTime": {
     "end_time": "2024-12-30T02:05:20.342558Z",
     "start_time": "2024-12-30T02:05:20.332299Z"
    }
   },
   "cell_type": "code",
   "source": "x ** y",
   "id": "d5b9e0a1c3f3348",
   "outputs": [
    {
     "data": {
      "text/plain": [
       "tensor([ 1.,  4., 16., 64.])"
      ]
     },
     "execution_count": 16,
     "metadata": {},
     "output_type": "execute_result"
    }
   ],
   "execution_count": 16
  },
  {
   "metadata": {},
   "cell_type": "markdown",
   "source": "cat 按行？ 按列？ 转变思维，沿哪个轴连结",
   "id": "2415a331b4274318"
  },
  {
   "metadata": {
    "ExecuteTime": {
     "end_time": "2024-12-30T02:06:48.862892Z",
     "start_time": "2024-12-30T02:06:48.845948Z"
    }
   },
   "cell_type": "code",
   "source": [
    "X = torch.arange(12, dtype=torch.float32).reshape((3,4))\n",
    "Y = torch.tensor([[2.0, 1, 4, 3], [1, 2, 3, 4], [4, 3, 2, 1]])\n",
    "torch.cat((X, Y), dim=0), torch.cat((X, Y), dim=1)"
   ],
   "id": "bfb20d353de59bee",
   "outputs": [
    {
     "data": {
      "text/plain": [
       "(tensor([[ 0.,  1.,  2.,  3.],\n",
       "         [ 4.,  5.,  6.,  7.],\n",
       "         [ 8.,  9., 10., 11.],\n",
       "         [ 2.,  1.,  4.,  3.],\n",
       "         [ 1.,  2.,  3.,  4.],\n",
       "         [ 4.,  3.,  2.,  1.]]),\n",
       " tensor([[ 0.,  1.,  2.,  3.,  2.,  1.,  4.,  3.],\n",
       "         [ 4.,  5.,  6.,  7.,  1.,  2.,  3.,  4.],\n",
       "         [ 8.,  9., 10., 11.,  4.,  3.,  2.,  1.]]))"
      ]
     },
     "execution_count": 17,
     "metadata": {},
     "output_type": "execute_result"
    }
   ],
   "execution_count": 17
  },
  {
   "metadata": {
    "ExecuteTime": {
     "end_time": "2024-12-30T02:12:48.981384Z",
     "start_time": "2024-12-30T02:12:48.967760Z"
    }
   },
   "cell_type": "code",
   "source": [
    "Z = torch.arange(12, dtype=torch.float32).reshape((3,4))\n",
    "torch.cat((X,Y,Z),dim = 1)"
   ],
   "id": "e3cf2c1351533414",
   "outputs": [
    {
     "data": {
      "text/plain": [
       "tensor([[ 0.,  1.,  2.,  3.,  2.,  1.,  4.,  3.,  0.,  1.,  2.,  3.],\n",
       "        [ 4.,  5.,  6.,  7.,  1.,  2.,  3.,  4.,  4.,  5.,  6.,  7.],\n",
       "        [ 8.,  9., 10., 11.,  4.,  3.,  2.,  1.,  8.,  9., 10., 11.]])"
      ]
     },
     "execution_count": 19,
     "metadata": {},
     "output_type": "execute_result"
    }
   ],
   "execution_count": 19
  },
  {
   "metadata": {
    "ExecuteTime": {
     "end_time": "2024-12-30T02:13:34.413034Z",
     "start_time": "2024-12-30T02:13:34.401269Z"
    }
   },
   "cell_type": "code",
   "source": "torch.cat((X,Y,Z),dim = 0)",
   "id": "831ef00375eab37d",
   "outputs": [
    {
     "data": {
      "text/plain": [
       "tensor([[ 0.,  1.,  2.,  3.],\n",
       "        [ 4.,  5.,  6.,  7.],\n",
       "        [ 8.,  9., 10., 11.],\n",
       "        [ 2.,  1.,  4.,  3.],\n",
       "        [ 1.,  2.,  3.,  4.],\n",
       "        [ 4.,  3.,  2.,  1.],\n",
       "        [ 0.,  1.,  2.,  3.],\n",
       "        [ 4.,  5.,  6.,  7.],\n",
       "        [ 8.,  9., 10., 11.]])"
      ]
     },
     "execution_count": 20,
     "metadata": {},
     "output_type": "execute_result"
    }
   ],
   "execution_count": 20
  },
  {
   "metadata": {
    "ExecuteTime": {
     "end_time": "2024-12-30T02:14:13.642288Z",
     "start_time": "2024-12-30T02:14:13.631780Z"
    }
   },
   "cell_type": "code",
   "source": "X.sum()",
   "id": "f9981eb6b240ddc1",
   "outputs": [
    {
     "data": {
      "text/plain": [
       "tensor(66.)"
      ]
     },
     "execution_count": 21,
     "metadata": {},
     "output_type": "execute_result"
    }
   ],
   "execution_count": 21
  },
  {
   "metadata": {
    "ExecuteTime": {
     "end_time": "2024-12-30T02:16:41.030788Z",
     "start_time": "2024-12-30T02:16:41.019298Z"
    }
   },
   "cell_type": "code",
   "source": [
    "a = torch.arange(3).reshape((3,1))\n",
    "b = torch.arange(2).reshape((1,2))\n",
    "a,b"
   ],
   "id": "2f8e906b7b295386",
   "outputs": [
    {
     "data": {
      "text/plain": [
       "(tensor([[0],\n",
       "         [1],\n",
       "         [2]]),\n",
       " tensor([[0, 1]]))"
      ]
     },
     "execution_count": 24,
     "metadata": {},
     "output_type": "execute_result"
    }
   ],
   "execution_count": 24
  },
  {
   "metadata": {
    "ExecuteTime": {
     "end_time": "2024-12-30T02:25:07.335278Z",
     "start_time": "2024-12-30T02:25:07.325203Z"
    }
   },
   "cell_type": "code",
   "source": "a + b",
   "id": "59503f006f9a67f0",
   "outputs": [
    {
     "data": {
      "text/plain": [
       "tensor([[0, 1],\n",
       "        [1, 2],\n",
       "        [2, 3]])"
      ]
     },
     "execution_count": 25,
     "metadata": {},
     "output_type": "execute_result"
    }
   ],
   "execution_count": 25
  },
  {
   "metadata": {
    "ExecuteTime": {
     "end_time": "2024-12-30T02:34:40.299210Z",
     "start_time": "2024-12-30T02:34:40.287328Z"
    }
   },
   "cell_type": "code",
   "source": [
    "X = torch.arange(12, dtype=torch.float32).reshape((3,4))\n",
    "X"
   ],
   "id": "51747613abb969b8",
   "outputs": [
    {
     "data": {
      "text/plain": [
       "tensor([[ 0.,  1.,  2.,  3.],\n",
       "        [ 4.,  5.,  6.,  7.],\n",
       "        [ 8.,  9., 10., 11.]])"
      ]
     },
     "execution_count": 27,
     "metadata": {},
     "output_type": "execute_result"
    }
   ],
   "execution_count": 27
  },
  {
   "metadata": {
    "ExecuteTime": {
     "end_time": "2024-12-30T02:34:43.006915Z",
     "start_time": "2024-12-30T02:34:42.996447Z"
    }
   },
   "cell_type": "code",
   "source": "X[-1]",
   "id": "54e4860c6cca9889",
   "outputs": [
    {
     "data": {
      "text/plain": [
       "tensor([ 8.,  9., 10., 11.])"
      ]
     },
     "execution_count": 28,
     "metadata": {},
     "output_type": "execute_result"
    }
   ],
   "execution_count": 28
  },
  {
   "metadata": {
    "ExecuteTime": {
     "end_time": "2024-12-30T02:35:01.257027Z",
     "start_time": "2024-12-30T02:35:01.246089Z"
    }
   },
   "cell_type": "code",
   "source": "X[1:3]",
   "id": "35e10d10f84f97b1",
   "outputs": [
    {
     "data": {
      "text/plain": [
       "tensor([[ 4.,  5.,  6.,  7.],\n",
       "        [ 8.,  9., 10., 11.]])"
      ]
     },
     "execution_count": 29,
     "metadata": {},
     "output_type": "execute_result"
    }
   ],
   "execution_count": 29
  },
  {
   "metadata": {
    "ExecuteTime": {
     "end_time": "2024-12-30T02:37:24.008403Z",
     "start_time": "2024-12-30T02:37:23.997980Z"
    }
   },
   "cell_type": "code",
   "source": "X[1,1]",
   "id": "9c3f283a35349949",
   "outputs": [
    {
     "data": {
      "text/plain": [
       "tensor(5.)"
      ]
     },
     "execution_count": 31,
     "metadata": {},
     "output_type": "execute_result"
    }
   ],
   "execution_count": 31
  },
  {
   "metadata": {},
   "cell_type": "markdown",
   "source": "## 2.1.6 转换为其他Python对象",
   "id": "6f90214f731365"
  },
  {
   "metadata": {
    "ExecuteTime": {
     "end_time": "2024-12-30T02:40:27.733015Z",
     "start_time": "2024-12-30T02:40:27.722430Z"
    }
   },
   "cell_type": "code",
   "source": [
    "A = x.numpy()\n",
    "B = torch.tensor(A)\n",
    "type(A),type(B)"
   ],
   "id": "b054d9d8908f290a",
   "outputs": [
    {
     "data": {
      "text/plain": [
       "(numpy.ndarray, torch.Tensor)"
      ]
     },
     "execution_count": 33,
     "metadata": {},
     "output_type": "execute_result"
    }
   ],
   "execution_count": 33
  },
  {
   "metadata": {
    "ExecuteTime": {
     "end_time": "2024-12-30T02:48:30.705525Z",
     "start_time": "2024-12-30T02:48:30.693747Z"
    }
   },
   "cell_type": "code",
   "source": [
    "a = torch.tensor([3.5])\n",
    "a, a.item(), float(a), int(a)"
   ],
   "id": "c9d3745f6748f5dd",
   "outputs": [
    {
     "data": {
      "text/plain": [
       "(tensor([3.5000]), 3.5, 3.5, 3)"
      ]
     },
     "execution_count": 35,
     "metadata": {},
     "output_type": "execute_result"
    }
   ],
   "execution_count": 35
  },
  {
   "metadata": {
    "ExecuteTime": {
     "end_time": "2024-12-30T02:50:35.744568Z",
     "start_time": "2024-12-30T02:50:35.719319Z"
    }
   },
   "cell_type": "code",
   "source": [
    "import os\n",
    "data_file = os.path.join(Data_PATH, 'house_tiny.csv')\n",
    "with open(data_file, 'w') as f:\n",
    "    f.write('NumRooms,Alley,Price\\n') # 列名\n",
    "    f.write('NA,Pave,127500\\n') # 每行表示一个数据样本\n",
    "    f.write('2,NA,106000\\n')\n",
    "    f.write('4,NA,178100\\n')\n",
    "    f.write('NA,NA,140000\\n')"
   ],
   "id": "b21e2338fd7f0159",
   "outputs": [],
   "execution_count": 38
  },
  {
   "metadata": {
    "ExecuteTime": {
     "end_time": "2024-12-30T05:46:14.699863Z",
     "start_time": "2024-12-30T05:46:14.689661Z"
    }
   },
   "cell_type": "code",
   "source": "data = load_data('house_tiny.csv')",
   "id": "9f091b23f03fcfbf",
   "outputs": [],
   "execution_count": 61
  },
  {
   "metadata": {
    "ExecuteTime": {
     "end_time": "2024-12-30T05:46:17.231375Z",
     "start_time": "2024-12-30T05:46:17.221002Z"
    }
   },
   "cell_type": "code",
   "source": "print(data)",
   "id": "2e303846d2ea8144",
   "outputs": [
    {
     "name": "stdout",
     "output_type": "stream",
     "text": [
      "   NumRooms Alley   Price\n",
      "0       NaN  Pave  127500\n",
      "1       2.0   NaN  106000\n",
      "2       4.0   NaN  178100\n",
      "3       NaN   NaN  140000\n"
     ]
    }
   ],
   "execution_count": 62
  },
  {
   "metadata": {
    "ExecuteTime": {
     "end_time": "2024-12-30T05:47:11.375955Z",
     "start_time": "2024-12-30T05:47:11.358822Z"
    }
   },
   "cell_type": "code",
   "source": "data.info()",
   "id": "807dc1cf263ffcfa",
   "outputs": [
    {
     "name": "stdout",
     "output_type": "stream",
     "text": [
      "<class 'pandas.core.frame.DataFrame'>\n",
      "RangeIndex: 4 entries, 0 to 3\n",
      "Data columns (total 3 columns):\n",
      " #   Column    Non-Null Count  Dtype  \n",
      "---  ------    --------------  -----  \n",
      " 0   NumRooms  2 non-null      float64\n",
      " 1   Alley     1 non-null      object \n",
      " 2   Price     4 non-null      int64  \n",
      "dtypes: float64(1), int64(1), object(1)\n",
      "memory usage: 228.0+ bytes\n"
     ]
    }
   ],
   "execution_count": 64
  },
  {
   "metadata": {
    "ExecuteTime": {
     "end_time": "2024-12-30T05:50:51.379209Z",
     "start_time": "2024-12-30T05:50:51.367823Z"
    }
   },
   "cell_type": "code",
   "source": [
    "inputs, outputs = data.iloc[:, 0:2], data.iloc[:, 2]\n",
    "# inputs = inputs.fillna(inputs.mean())\n",
    "inputs['NumRooms'] = inputs['NumRooms'].fillna(inputs['NumRooms'].mean())\n",
    " #填充字符串列的缺失值\n",
    "inputs['Alley'] = inputs['Alley'].fillna('None')"
   ],
   "id": "ca9b2cbf05fadad0",
   "outputs": [],
   "execution_count": 72
  },
  {
   "metadata": {
    "ExecuteTime": {
     "end_time": "2024-12-30T05:51:11.908136Z",
     "start_time": "2024-12-30T05:51:11.897611Z"
    }
   },
   "cell_type": "code",
   "source": "print(inputs)",
   "id": "f1ed5ac5b4d6ed7a",
   "outputs": [
    {
     "name": "stdout",
     "output_type": "stream",
     "text": [
      "   NumRooms Alley\n",
      "0       3.0  Pave\n",
      "1       2.0  None\n",
      "2       4.0  None\n",
      "3       3.0  None\n"
     ]
    }
   ],
   "execution_count": 75
  },
  {
   "metadata": {},
   "cell_type": "markdown",
   "source": "使用 pd.get_dummies() 方法对输入数据进行独热编码（One-Hot Encoding）时，会为分类变量生成新列。",
   "id": "aa0227eeaa587000"
  },
  {
   "metadata": {
    "ExecuteTime": {
     "end_time": "2024-12-30T05:48:21.205197Z",
     "start_time": "2024-12-30T05:48:21.188484Z"
    }
   },
   "cell_type": "code",
   "source": [
    "inputs = pd.get_dummies(inputs, dummy_na=True)\n",
    "print(inputs)"
   ],
   "id": "b4fe74f741ad8245",
   "outputs": [
    {
     "name": "stdout",
     "output_type": "stream",
     "text": [
      "   NumRooms  Alley_Pave  Alley_nan\n",
      "0       NaN        True      False\n",
      "1       2.0       False       True\n",
      "2       4.0       False       True\n",
      "3       NaN       False       True\n"
     ]
    }
   ],
   "execution_count": 67
  },
  {
   "metadata": {},
   "cell_type": "markdown",
   "source": "# 2.3 线性代数",
   "id": "c7ac80e5b6d9a03a"
  },
  {
   "metadata": {
    "ExecuteTime": {
     "end_time": "2024-12-30T06:17:00.135210Z",
     "start_time": "2024-12-30T06:17:00.123992Z"
    }
   },
   "cell_type": "code",
   "source": [
    "#矩阵\n",
    "A = torch.arange(20).reshape(5,4)\n",
    "A"
   ],
   "id": "35efc48be311f2ab",
   "outputs": [
    {
     "data": {
      "text/plain": [
       "tensor([[ 0,  1,  2,  3],\n",
       "        [ 4,  5,  6,  7],\n",
       "        [ 8,  9, 10, 11],\n",
       "        [12, 13, 14, 15],\n",
       "        [16, 17, 18, 19]])"
      ]
     },
     "execution_count": 76,
     "metadata": {},
     "output_type": "execute_result"
    }
   ],
   "execution_count": 76
  },
  {
   "metadata": {
    "ExecuteTime": {
     "end_time": "2024-12-30T06:18:07.736939Z",
     "start_time": "2024-12-30T06:18:07.726514Z"
    }
   },
   "cell_type": "code",
   "source": "A.T",
   "id": "bb85692701191260",
   "outputs": [
    {
     "data": {
      "text/plain": [
       "tensor([[ 0,  4,  8, 12, 16],\n",
       "        [ 1,  5,  9, 13, 17],\n",
       "        [ 2,  6, 10, 14, 18],\n",
       "        [ 3,  7, 11, 15, 19]])"
      ]
     },
     "execution_count": 77,
     "metadata": {},
     "output_type": "execute_result"
    }
   ],
   "execution_count": 77
  },
  {
   "metadata": {
    "ExecuteTime": {
     "end_time": "2024-12-30T06:20:48.299684Z",
     "start_time": "2024-12-30T06:20:48.288343Z"
    }
   },
   "cell_type": "code",
   "source": [
    "#张量\n",
    "X = torch.arange(24).reshape(2,3,4)\n",
    "X"
   ],
   "id": "a80f82563f859466",
   "outputs": [
    {
     "data": {
      "text/plain": [
       "tensor([[[ 0,  1,  2,  3],\n",
       "         [ 4,  5,  6,  7],\n",
       "         [ 8,  9, 10, 11]],\n",
       "\n",
       "        [[12, 13, 14, 15],\n",
       "         [16, 17, 18, 19],\n",
       "         [20, 21, 22, 23]]])"
      ]
     },
     "execution_count": 78,
     "metadata": {},
     "output_type": "execute_result"
    }
   ],
   "execution_count": 78
  },
  {
   "metadata": {
    "ExecuteTime": {
     "end_time": "2024-12-30T06:21:55.551095Z",
     "start_time": "2024-12-30T06:21:55.535954Z"
    }
   },
   "cell_type": "code",
   "source": [
    "A = torch.arange(20, dtype=torch.float32).reshape(5, 4)\n",
    "B = A.clone() # 通过分配新内存，将A的一个副本分配给B\n",
    "A, A + B"
   ],
   "id": "164c1c3214f8c187",
   "outputs": [
    {
     "data": {
      "text/plain": [
       "(tensor([[ 0.,  1.,  2.,  3.],\n",
       "         [ 4.,  5.,  6.,  7.],\n",
       "         [ 8.,  9., 10., 11.],\n",
       "         [12., 13., 14., 15.],\n",
       "         [16., 17., 18., 19.]]),\n",
       " tensor([[ 0.,  2.,  4.,  6.],\n",
       "         [ 8., 10., 12., 14.],\n",
       "         [16., 18., 20., 22.],\n",
       "         [24., 26., 28., 30.],\n",
       "         [32., 34., 36., 38.]]))"
      ]
     },
     "execution_count": 79,
     "metadata": {},
     "output_type": "execute_result"
    }
   ],
   "execution_count": 79
  },
  {
   "metadata": {
    "ExecuteTime": {
     "end_time": "2024-12-30T06:22:15.482512Z",
     "start_time": "2024-12-30T06:22:15.471082Z"
    }
   },
   "cell_type": "code",
   "source": "A * B",
   "id": "4585469cfe3fd56d",
   "outputs": [
    {
     "data": {
      "text/plain": [
       "tensor([[  0.,   1.,   4.,   9.],\n",
       "        [ 16.,  25.,  36.,  49.],\n",
       "        [ 64.,  81., 100., 121.],\n",
       "        [144., 169., 196., 225.],\n",
       "        [256., 289., 324., 361.]])"
      ]
     },
     "execution_count": 80,
     "metadata": {},
     "output_type": "execute_result"
    }
   ],
   "execution_count": 80
  },
  {
   "metadata": {
    "ExecuteTime": {
     "end_time": "2024-12-30T06:24:23.409286Z",
     "start_time": "2024-12-30T06:24:23.398952Z"
    }
   },
   "cell_type": "code",
   "source": "A.mean()",
   "id": "1d407974554306f9",
   "outputs": [
    {
     "data": {
      "text/plain": [
       "tensor(9.5000)"
      ]
     },
     "execution_count": 81,
     "metadata": {},
     "output_type": "execute_result"
    }
   ],
   "execution_count": 81
  },
  {
   "metadata": {},
   "cell_type": "markdown",
   "source": "# 2.3.6 降维",
   "id": "74b2387529b2d45"
  },
  {
   "metadata": {
    "ExecuteTime": {
     "end_time": "2024-12-30T06:28:09.799436Z",
     "start_time": "2024-12-30T06:28:09.787190Z"
    }
   },
   "cell_type": "code",
   "source": [
    "x = torch.arange(4, dtype=torch.float32)\n",
    "x, x.sum()"
   ],
   "id": "88fa8f7f9cf11034",
   "outputs": [
    {
     "data": {
      "text/plain": [
       "(tensor([0., 1., 2., 3.]), tensor(6.))"
      ]
     },
     "execution_count": 83,
     "metadata": {},
     "output_type": "execute_result"
    }
   ],
   "execution_count": 83
  },
  {
   "metadata": {
    "ExecuteTime": {
     "end_time": "2024-12-30T06:28:29.794213Z",
     "start_time": "2024-12-30T06:28:29.783800Z"
    }
   },
   "cell_type": "code",
   "source": "A.shape, A.sum()",
   "id": "13be3dbfba3fbfd3",
   "outputs": [
    {
     "data": {
      "text/plain": [
       "(torch.Size([5, 4]), tensor(190.))"
      ]
     },
     "execution_count": 84,
     "metadata": {},
     "output_type": "execute_result"
    }
   ],
   "execution_count": 84
  },
  {
   "metadata": {
    "ExecuteTime": {
     "end_time": "2024-12-30T06:28:45.778957Z",
     "start_time": "2024-12-30T06:28:45.767420Z"
    }
   },
   "cell_type": "code",
   "source": [
    "A_sum_axis0 = A.sum(axis=0)\n",
    "A_sum_axis0, A_sum_axis0.shape"
   ],
   "id": "f3b9eaef4b99f05f",
   "outputs": [
    {
     "data": {
      "text/plain": [
       "(tensor([40., 45., 50., 55.]), torch.Size([4]))"
      ]
     },
     "execution_count": 85,
     "metadata": {},
     "output_type": "execute_result"
    }
   ],
   "execution_count": 85
  },
  {
   "metadata": {
    "ExecuteTime": {
     "end_time": "2024-12-30T06:28:59.585955Z",
     "start_time": "2024-12-30T06:28:59.574879Z"
    }
   },
   "cell_type": "code",
   "source": [
    "A_sum_axis1 = A.sum(axis=1)\n",
    "A_sum_axis1, A_sum_axis1.shape"
   ],
   "id": "8c7debba36a9250a",
   "outputs": [
    {
     "data": {
      "text/plain": [
       "(tensor([ 6., 22., 38., 54., 70.]), torch.Size([5]))"
      ]
     },
     "execution_count": 86,
     "metadata": {},
     "output_type": "execute_result"
    }
   ],
   "execution_count": 86
  },
  {
   "metadata": {},
   "cell_type": "markdown",
   "source": "# 2.3.7 点积（Dot Product）",
   "id": "ee38a076ec0164cc"
  },
  {
   "metadata": {
    "ExecuteTime": {
     "end_time": "2024-12-30T06:52:42.443481Z",
     "start_time": "2024-12-30T06:52:42.430125Z"
    }
   },
   "cell_type": "code",
   "source": [
    "y = torch.ones(4, dtype = torch.float32)\n",
    "x, y, torch.dot(x, y)"
   ],
   "id": "3b0b4919ea31bb88",
   "outputs": [
    {
     "data": {
      "text/plain": [
       "(tensor([0., 1., 2., 3.]), tensor([1., 1., 1., 1.]), tensor(6.))"
      ]
     },
     "execution_count": 87,
     "metadata": {},
     "output_type": "execute_result"
    }
   ],
   "execution_count": 87
  },
  {
   "metadata": {},
   "cell_type": "markdown",
   "source": "# 2.3.8 矩阵-向量积",
   "id": "9f2dc11f3419f85d"
  },
  {
   "metadata": {
    "ExecuteTime": {
     "end_time": "2024-12-30T07:48:45.152562Z",
     "start_time": "2024-12-30T07:48:45.141649Z"
    }
   },
   "cell_type": "code",
   "source": "A.shape, x.shape, torch.mv(A, x)",
   "id": "ac7b5705a7835148",
   "outputs": [
    {
     "data": {
      "text/plain": [
       "(torch.Size([5, 4]), torch.Size([4]), tensor([ 14.,  38.,  62.,  86., 110.]))"
      ]
     },
     "execution_count": 89,
     "metadata": {},
     "output_type": "execute_result"
    }
   ],
   "execution_count": 89
  },
  {
   "metadata": {},
   "cell_type": "markdown",
   "source": "# 2.5 自动微分",
   "id": "d0409eaad400d0f1"
  },
  {
   "metadata": {},
   "cell_type": "code",
   "outputs": [],
   "execution_count": null,
   "source": "",
   "id": "117a568f6b364065"
  }
 ],
 "metadata": {
  "kernelspec": {
   "name": "python3",
   "language": "python",
   "display_name": "Python 3 (ipykernel)"
  }
 },
 "nbformat": 5,
 "nbformat_minor": 9
}
